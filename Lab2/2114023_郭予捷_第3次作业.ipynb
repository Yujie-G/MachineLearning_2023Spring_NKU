{
 "cells": [
  {
   "cell_type": "markdown",
   "metadata": {
    "heading_collapsed": true
   },
   "source": [
    "### 1.画出sigmoid函数的图像。 "
   ]
  },
  {
   "cell_type": "code",
   "execution_count": 1,
   "metadata": {},
   "outputs": [
    {
     "data": {
      "image/png": "[encoded data removed]",
      "text/plain": [
       "<Figure size 432x288 with 1 Axes>"
      ]
     },
     "metadata": {
      "needs_background": "light"
     },
     "output_type": "display_data"
    }
   ],
   "source": [
    "import matplotlib.pyplot as plt\n",
    "import numpy as np\n",
    "\n",
    "def sigmoid(x):\n",
    "    return 1/(1+np.exp(-x))\n",
    "\n",
    "xx = np.linspace(-10,10,1000)\n",
    "yy = sigmoid(xx)\n",
    "\n",
    "plt.plot(xx,yy)\n",
    "plt.show()"
   ]
  },
  {
   "cell_type": "markdown",
   "metadata": {},
   "source": [
    "### 2.将下列数组进行最值归一化。 "
   ]
  },
  {
   "cell_type": "code",
   "execution_count": 2,
   "metadata": {},
   "outputs": [],
   "source": [
    "import numpy as np\n",
    "a = np.arange(50)"
   ]
  },
  {
   "cell_type": "code",
   "execution_count": 3,
   "metadata": {},
   "outputs": [
    {
     "data": {
      "text/plain": [
       "array([0.        , 0.02040816, 0.04081633, 0.06122449, 0.08163265,\n",
       "       0.10204082, 0.12244898, 0.14285714, 0.16326531, 0.18367347,\n",
       "       0.20408163, 0.2244898 , 0.24489796, 0.26530612, 0.28571429,\n",
       "       0.30612245, 0.32653061, 0.34693878, 0.36734694, 0.3877551 ,\n",
       "       0.40816327, 0.42857143, 0.44897959, 0.46938776, 0.48979592,\n",
       "       0.51020408, 0.53061224, 0.55102041, 0.57142857, 0.59183673,\n",
       "       0.6122449 , 0.63265306, 0.65306122, 0.67346939, 0.69387755,\n",
       "       0.71428571, 0.73469388, 0.75510204, 0.7755102 , 0.79591837,\n",
       "       0.81632653, 0.83673469, 0.85714286, 0.87755102, 0.89795918,\n",
       "       0.91836735, 0.93877551, 0.95918367, 0.97959184, 1.        ])"
      ]
     },
     "execution_count": 3,
     "metadata": {},
     "output_type": "execute_result"
    }
   ],
   "source": [
    "# max normalization\n",
    "a = (a-min(a))/(max(a)-min(a))\n",
    "a"
   ]
  },
  {
   "cell_type": "markdown",
   "metadata": {},
   "source": [
    "### 3.创建一个4x4的随机矩阵，求行列式"
   ]
  },
  {
   "cell_type": "code",
   "execution_count": 7,
   "metadata": {},
   "outputs": [
    {
     "name": "stdout",
     "output_type": "stream",
     "text": [
      "[[2.09136055 9.89756981 5.46636167 2.94435859]\n",
      " [3.800123   5.27708629 5.79141035 2.75591008]\n",
      " [8.57641756 1.56528459 6.80060696 8.24096046]\n",
      " [1.36397006 4.034127   1.6151717  7.71589603]]\n"
     ]
    },
    {
     "data": {
      "text/plain": [
       "357.01928719966185"
      ]
     },
     "execution_count": 7,
     "metadata": {},
     "output_type": "execute_result"
    }
   ],
   "source": [
    "m = np.random.uniform(1, 10, [4,4])\n",
    "print(m)\n",
    "np.linalg.det(m)"
   ]
  },
  {
   "cell_type": "markdown",
   "metadata": {},
   "source": [
    "### 4.创建一个长度为10的随机向量，并将其排序"
   ]
  },
  {
   "cell_type": "code",
   "execution_count": 9,
   "metadata": {},
   "outputs": [
    {
     "data": {
      "text/plain": [
       "[0.05127228329585565,\n",
       " 0.11184602251826259,\n",
       " 0.25880560726358437,\n",
       " 0.3226613849154124,\n",
       " 0.47335691399195656,\n",
       " 0.48185077341241045,\n",
       " 0.5597214198837714,\n",
       " 0.6964792450541392,\n",
       " 0.7189803429324533,\n",
       " 0.8384237757491998]"
      ]
     },
     "execution_count": 9,
     "metadata": {},
     "output_type": "execute_result"
    }
   ],
   "source": [
    "a = np.random.uniform(0,1,10)\n",
    "sorted(a)"
   ]
  },
  {
   "cell_type": "markdown",
   "metadata": {},
   "source": [
    "### 5.创建一个3x2x4的随机数组"
   ]
  },
  {
   "cell_type": "code",
   "execution_count": 11,
   "metadata": {},
   "outputs": [
    {
     "data": {
      "text/plain": [
       "array([[[0.09402847, 0.19166488, 0.96886931, 0.37298576],\n",
       "        [0.71855926, 0.87039876, 0.6815609 , 0.47163184]],\n",
       "\n",
       "       [[0.72329657, 0.00142819, 0.05664629, 0.65638891],\n",
       "        [0.98366748, 0.8955643 , 0.72118798, 0.56904011]],\n",
       "\n",
       "       [[0.57629692, 0.76606378, 0.74047596, 0.35836179],\n",
       "        [0.78772076, 0.01529695, 0.4420749 , 0.25975183]]])"
      ]
     },
     "execution_count": 11,
     "metadata": {},
     "output_type": "execute_result"
    }
   ],
   "source": [
    "m = np.random.uniform(0,1,[3,2,4])\n",
    "m"
   ]
  },
  {
   "cell_type": "markdown",
   "metadata": {},
   "source": [
    "### 6.创建一个二维数组，交换其中任意两列/行"
   ]
  },
  {
   "cell_type": "code",
   "execution_count": 12,
   "metadata": {},
   "outputs": [
    {
     "name": "stdout",
     "output_type": "stream",
     "text": [
      "[[0.7338313  0.80999688 0.60046019 0.39645688]\n",
      " [0.36753752 0.11095994 0.33365623 0.493815  ]\n",
      " [0.84652683 0.82771387 0.74391069 0.22183041]\n",
      " [0.96726921 0.80488407 0.2092582  0.54779303]]\n",
      "[[0.7338313  0.80999688 0.60046019 0.39645688]\n",
      " [0.84652683 0.82771387 0.74391069 0.22183041]\n",
      " [0.36753752 0.11095994 0.33365623 0.493815  ]\n",
      " [0.96726921 0.80488407 0.2092582  0.54779303]]\n"
     ]
    }
   ],
   "source": [
    "arr = np.random.uniform(0,1,[4,4])\n",
    "print(arr)\n",
    "#swap row 1 & row 2\n",
    "r1 = 1\n",
    "r2 = 2\n",
    "\n",
    "arr[[r1,r2],:] = arr[[r2,r1],:]\n",
    "print(arr)\n"
   ]
  }
 ],
 "metadata": {
  "hide_input": false,
  "kernelspec": {
   "display_name": "Python 3",
   "language": "python",
   "name": "python3"
  },
  "language_info": {
   "codemirror_mode": {
    "name": "ipython",
    "version": 3
   },
   "file_extension": ".py",
   "mimetype": "text/x-python",
   "name": "python",
   "nbconvert_exporter": "python",
   "pygments_lexer": "ipython3",
   "version": "3.9.12"
  },
  "toc": {
   "base_numbering": 1,
   "nav_menu": {},
   "number_sections": true,
   "sideBar": true,
   "skip_h1_title": false,
   "title_cell": "Table of Contents",
   "title_sidebar": "Contents",
   "toc_cell": false,
   "toc_position": {},
   "toc_section_display": true,
   "toc_window_display": false
  },
  "varInspector": {
   "cols": {
    "lenName": 16,
    "lenType": 16,
    "lenVar": 40
   },
   "kernels_config": {
    "python": {
     "delete_cmd_postfix": "",
     "delete_cmd_prefix": "del ",
     "library": "var_list.py",
     "varRefreshCmd": "print(var_dic_list())"
    },
    "r": {
     "delete_cmd_postfix": ") ",
     "delete_cmd_prefix": "rm(",
     "library": "var_list.r",
     "varRefreshCmd": "cat(var_dic_list()) "
    }
   },
   "types_to_exclude": [
    "module",
    "function",
    "builtin_function_or_method",
    "instance",
    "_Feature"
   ],
   "window_display": false
  }
 },
 "nbformat": 4,
 "nbformat_minor": 4
}
