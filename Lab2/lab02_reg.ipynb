{
 "cells": [
  {
   "attachments": {},
   "cell_type": "markdown",
   "metadata": {},
   "source": [
    "# chip quality prediction"
   ]
  },
  {
   "attachments": {},
   "cell_type": "markdown",
   "metadata": {},
   "source": [
    "## envioroment importion"
   ]
  },
  {
   "cell_type": "code",
   "execution_count": 1,
   "metadata": {},
   "outputs": [],
   "source": [
    "import pandas as pd\n",
    "import numpy as np\n",
    "import matplotlib.pyplot as plt\n",
    "import scipy.optimize as op\n",
    "path1 = 'D:\\Projects_VSCode\\Projects_py\\ML_NKU\\Lab2\\machine-learning-ex2\\ex2\\ex2data1.txt'\n",
    "path2 = 'D:\\Projects_VSCode\\Projects_py\\ML_NKU\\Lab2\\machine-learning-ex2\\ex2\\ex2data2.txt'"
   ]
  },
  {
   "attachments": {},
   "cell_type": "markdown",
   "metadata": {},
   "source": [
    "### plot data"
   ]
  },
  {
   "cell_type": "code",
   "execution_count": 2,
   "metadata": {},
   "outputs": [],
   "source": [
    "def PlotData(X,Y):\n",
    "    pos = np.argwhere(Y==1).reshape(1,-1)[0]\n",
    "    neg = np.argwhere(Y==0).reshape(1,-1)[0]\n",
    "    f1 = plt.figure(1)\n",
    "    plt.scatter(X[0,pos],X[1,pos],c='k',marker='+', label='y=1')\n",
    "    plt.scatter(X[0,neg],X[1,neg],c='y',marker='o', label='y=0')\n",
    "\n",
    "    return f1\n"
   ]
  },
  {
   "attachments": {},
   "cell_type": "markdown",
   "metadata": {},
   "source": [
    "### gradient"
   ]
  },
  {
   "attachments": {},
   "cell_type": "markdown",
   "metadata": {},
   "source": [
    "## data loader"
   ]
  },
  {
   "cell_type": "code",
   "execution_count": 3,
   "metadata": {},
   "outputs": [],
   "source": [
    "Data2 = pd.read_csv(path2, names=['test1', 'test2', 'Accepted'])"
   ]
  },
  {
   "attachments": {},
   "cell_type": "markdown",
   "metadata": {},
   "source": [
    "## show data"
   ]
  },
  {
   "cell_type": "code",
   "execution_count": 4,
   "metadata": {},
   "outputs": [
    {
     "data": {
      "image/png": "[encoded data removed]",
      "text/plain": [
       "<Figure size 432x288 with 1 Axes>"
      ]
     },
     "execution_count": 4,
     "metadata": {},
     "output_type": "execute_result"
    },
    {
     "data": {
      "image/png": "[encoded data removed]",
      "text/plain": [
       "<Figure size 432x288 with 1 Axes>"
      ]
     },
     "metadata": {
      "needs_background": "light"
     },
     "output_type": "display_data"
    }
   ],
   "source": [
    "PlotData(Data2.iloc[:, 0:2].values.T,Data2.iloc[:, -1].values.T)\n",
    "# plt.show()"
   ]
  },
  {
   "attachments": {},
   "cell_type": "markdown",
   "metadata": {},
   "source": [
    "## hyper parameter"
   ]
  },
  {
   "cell_type": "code",
   "execution_count": 5,
   "metadata": {},
   "outputs": [],
   "source": [
    "lambd = 0.6\n",
    "dim = 7 #max dimension when feature mapping\n",
    "Iters = 400"
   ]
  },
  {
   "attachments": {},
   "cell_type": "markdown",
   "metadata": {},
   "source": [
    "## logistic regression"
   ]
  },
  {
   "attachments": {},
   "cell_type": "markdown",
   "metadata": {},
   "source": [
    "### feature mapping"
   ]
  },
  {
   "cell_type": "code",
   "execution_count": 6,
   "metadata": {},
   "outputs": [],
   "source": [
    "def feature_mapping(x1, x2, power):\n",
    "    data = {}\n",
    "    for i in np.arange(power + 1):\n",
    "        for j in np.arange(i + 1):\n",
    "            data['F{}{}'.format(i - j, j)] = np.power(x1, i - j) * np.power(x2, j)\n",
    "    return pd.DataFrame(data)\n"
   ]
  },
  {
   "cell_type": "code",
   "execution_count": 7,
   "metadata": {},
   "outputs": [
    {
     "name": "stdout",
     "output_type": "stream",
     "text": [
      "     F00       F10       F01       F20       F11       F02           F30  \\\n",
      "0    1.0  0.051267  0.699560  0.002628  0.035864  0.489384  1.347453e-04   \n",
      "1    1.0 -0.092742  0.684940  0.008601 -0.063523  0.469143 -7.976812e-04   \n",
      "2    1.0 -0.213710  0.692250  0.045672 -0.147941  0.479210 -9.760555e-03   \n",
      "3    1.0 -0.375000  0.502190  0.140625 -0.188321  0.252195 -5.273438e-02   \n",
      "4    1.0 -0.513250  0.465640  0.263426 -0.238990  0.216821 -1.352032e-01   \n",
      "..   ...       ...       ...       ...       ...       ...           ...   \n",
      "113  1.0 -0.720620  0.538740  0.519293 -0.388227  0.290241 -3.742131e-01   \n",
      "114  1.0 -0.593890  0.494880  0.352705 -0.293904  0.244906 -2.094682e-01   \n",
      "115  1.0 -0.484450  0.999270  0.234692 -0.484096  0.998541 -1.136964e-01   \n",
      "116  1.0 -0.006336  0.999270  0.000040 -0.006332  0.998541 -2.544062e-07   \n",
      "117  1.0  0.632650 -0.030612  0.400246 -0.019367  0.000937  2.532156e-01   \n",
      "\n",
      "          F21       F12       F03  ...           F15           F06  \\\n",
      "0    0.001839  0.025089  0.342354  ...  8.589398e-03  1.172060e-01   \n",
      "1    0.005891 -0.043509  0.321335  ... -1.398103e-02  1.032560e-01   \n",
      "2    0.031616 -0.102412  0.331733  ... -3.397345e-02  1.100469e-01   \n",
      "3    0.070620 -0.094573  0.126650  ... -1.197765e-02  1.604015e-02   \n",
      "4    0.122661 -0.111283  0.100960  ... -1.123519e-02  1.019299e-02   \n",
      "..        ...       ...       ...  ...           ...           ...   \n",
      "113  0.279764 -0.209153  0.156364  ... -3.270412e-02  2.444980e-02   \n",
      "114  0.174547 -0.145447  0.121199  ... -1.762810e-02  1.468924e-02   \n",
      "115  0.234520 -0.483743  0.997812  ... -4.826843e-01  9.956280e-01   \n",
      "116  0.000040 -0.006327  0.997812  ... -6.313306e-03  9.956280e-01   \n",
      "117 -0.012252  0.000593 -0.000029  ... -1.700678e-08  8.229060e-10   \n",
      "\n",
      "              F70           F61           F52           F43           F34  \\\n",
      "0    9.308192e-10  1.270142e-08  1.733163e-07  2.364975e-06  3.227109e-05   \n",
      "1   -5.901130e-08  4.358241e-07 -3.218751e-06  2.377187e-05 -1.755656e-04   \n",
      "2   -2.035982e-05  6.594958e-05 -2.136241e-04  6.919716e-04 -2.241436e-03   \n",
      "3   -1.042843e-03  1.396547e-03 -1.870219e-03  2.504547e-03 -3.354023e-03   \n",
      "4   -9.382157e-03  8.511851e-03 -7.722277e-03  7.005944e-03 -6.356060e-03   \n",
      "..            ...           ...           ...           ...           ...   \n",
      "113 -1.009123e-01  7.544268e-02 -5.640142e-02  4.216605e-02 -3.152360e-02   \n",
      "114 -2.605806e-02  2.171381e-02 -1.809380e-02  1.507731e-02 -1.256370e-02   \n",
      "115 -6.262428e-03  1.291744e-02 -2.664468e-02  5.495970e-02 -1.133648e-01   \n",
      "116 -4.101079e-16  6.467529e-14 -1.019949e-11  1.608492e-09 -2.536642e-07   \n",
      "117  4.056436e-02 -1.962785e-03  9.497318e-05 -4.595462e-06  2.223604e-07   \n",
      "\n",
      "              F25           F16           F07  \n",
      "0    4.403527e-04  6.008800e-03  8.199262e-02  \n",
      "1    1.296628e-03 -9.576165e-03  7.072415e-02  \n",
      "2    7.260466e-03 -2.351812e-02  7.617996e-02  \n",
      "3    4.491618e-03 -6.015055e-03  8.055202e-03  \n",
      "4    5.766460e-03 -5.231553e-03  4.746265e-03  \n",
      "..            ...           ...           ...  \n",
      "113  2.356724e-02 -1.761902e-02  1.317209e-02  \n",
      "114  1.046915e-02 -8.723795e-03  7.269413e-03  \n",
      "115  2.338364e-01 -4.823320e-01  9.949012e-01  \n",
      "116  4.000363e-05 -6.308697e-03  9.949012e-01  \n",
      "117 -1.075934e-08  5.206115e-10 -2.519080e-11  \n",
      "\n",
      "[118 rows x 36 columns]\n"
     ]
    }
   ],
   "source": [
    "x1 = Data2['test1']\n",
    "x2 = Data2['test2']\n",
    "data2 = feature_mapping(x1, x2, dim)\n",
    "print(data2)"
   ]
  },
  {
   "attachments": {},
   "cell_type": "markdown",
   "metadata": {},
   "source": [
    "### dataset"
   ]
  },
  {
   "cell_type": "code",
   "execution_count": 8,
   "metadata": {},
   "outputs": [
    {
     "name": "stdout",
     "output_type": "stream",
     "text": [
      "(36, 118)\n",
      "(1, 118)\n"
     ]
    }
   ],
   "source": [
    "X = data2.values.T\n",
    "\n",
    "print(X.shape)\n",
    "Y = Data2.iloc[:, -1].values.reshape(1,-1)\n",
    "m = X.shape[1]\n",
    "\n",
    "print(Y.shape)"
   ]
  },
  {
   "attachments": {},
   "cell_type": "markdown",
   "metadata": {},
   "source": [
    "## Compute cost and gradient"
   ]
  },
  {
   "cell_type": "markdown",
   "metadata": {},
   "source": [
    "### sigmoid function"
   ]
  },
  {
   "cell_type": "code",
   "execution_count": 9,
   "metadata": {},
   "outputs": [],
   "source": [
    "def Sigmoid(z):\n",
    "    return 1/(1+np.exp(-z))\n"
   ]
  },
  {
   "cell_type": "markdown",
   "metadata": {},
   "source": [
    "### cost function"
   ]
  },
  {
   "cell_type": "code",
   "execution_count": 10,
   "metadata": {},
   "outputs": [],
   "source": [
    "def costFunction(theta, X, y):\n",
    "    hx = Sigmoid(theta.T.dot(X))\n",
    "    J = -np.sum(y*np.log(hx)+(1-y)*np.log(1-hx))/m\n",
    "    return J"
   ]
  },
  {
   "cell_type": "code",
   "execution_count": 11,
   "metadata": {},
   "outputs": [],
   "source": [
    "def gradient(theta, X, y):\n",
    "    grad = np.zeros(theta.shape)\n",
    "    hx = Sigmoid(theta.T.dot(X))\n",
    "    grad = ((hx-y)@X.T).T\n",
    "    return grad"
   ]
  },
  {
   "attachments": {},
   "cell_type": "markdown",
   "metadata": {},
   "source": [
    "### cost function with regularization"
   ]
  },
  {
   "cell_type": "code",
   "execution_count": 12,
   "metadata": {},
   "outputs": [],
   "source": [
    "def costFunction_reg(theta,X,Y,lambd):\n",
    "    J = costFunction(theta,X,Y)\n",
    "    J += lambd*np.sum(theta)/(2*m)\n",
    "    return J"
   ]
  },
  {
   "cell_type": "code",
   "execution_count": 13,
   "metadata": {},
   "outputs": [
    {
     "name": "stdout",
     "output_type": "stream",
     "text": [
      "(36, 1)\n"
     ]
    }
   ],
   "source": [
    "init_theta = np.zeros((X.shape[0],1))\n",
    "print(init_theta.shape)"
   ]
  },
  {
   "attachments": {},
   "cell_type": "markdown",
   "metadata": {},
   "source": [
    "### gradient with regularization"
   ]
  },
  {
   "cell_type": "code",
   "execution_count": 14,
   "metadata": {},
   "outputs": [],
   "source": [
    "def gradient_reg(theta,X,Y,lambd):\n",
    "    grad = gradient(theta,X,Y)\n",
    "    grad+=lambd*theta/m\n",
    "    return grad"
   ]
  },
  {
   "attachments": {},
   "cell_type": "markdown",
   "metadata": {},
   "source": [
    "## Optimizing"
   ]
  },
  {
   "cell_type": "code",
   "execution_count": 19,
   "metadata": {},
   "outputs": [
    {
     "name": "stdout",
     "output_type": "stream",
     "text": [
      "     fun: 0.21091444854891167\n",
      "     jac: array([ 1.62818087,  0.77294952,  0.07491093,  0.73601734,  0.05512142,\n",
      "        0.14899122,  0.28309087, -0.02028036,  0.2138436 , -0.00339292,\n",
      "        0.29211488,  0.0680559 ,  0.07220509,  0.01691788,  0.0284845 ,\n",
      "        0.12604326,  0.03450573,  0.06569032, -0.01733275,  0.08473275,\n",
      "       -0.05788449,  0.14161834,  0.063198  ,  0.02235189,  0.00796187,\n",
      "        0.02193327,  0.01858306, -0.03683151,  0.06388768,  0.03480734,\n",
      "        0.02867214,  0.00180977,  0.01887476, -0.01020147,  0.0459521 ,\n",
      "       -0.077802  ])\n",
      " message: 'Converged (|f_n-f_(n-1)| ~= 0)'\n",
      "    nfev: 107\n",
      "     nit: 4\n",
      "  status: 1\n",
      " success: True\n",
      "       x: array([ 4.04989536,  2.74412934,  5.04964264, -3.54420172, -8.15857876,\n",
      "       -7.21832556,  1.76450283, -1.34072055,  3.62421843, -0.71029667,\n",
      "       -5.26328584,  5.3436074 , -5.89649462, -2.96988272, -5.96276431,\n",
      "       -1.65269249,  0.20288995,  5.85973503, -5.3054704 , -3.5527685 ,\n",
      "        0.46535377, -6.27651026,  3.62573497, -2.25710439,  3.45443788,\n",
      "       -5.32153471, -3.90716358, -1.8952647 , -3.38438446,  1.0361915 ,\n",
      "        1.79429934, -1.79124675,  2.26761601, -3.34657373, -5.54328211,\n",
      "        2.45509678])\n",
      "[ 4.04989536  2.74412934  5.04964264 -3.54420172 -8.15857876 -7.21832556\n",
      "  1.76450283 -1.34072055  3.62421843 -0.71029667 -5.26328584  5.3436074\n",
      " -5.89649462 -2.96988272 -5.96276431 -1.65269249  0.20288995  5.85973503\n",
      " -5.3054704  -3.5527685   0.46535377 -6.27651026  3.62573497 -2.25710439\n",
      "  3.45443788 -5.32153471 -3.90716358 -1.8952647  -3.38438446  1.0361915\n",
      "  1.79429934 -1.79124675  2.26761601 -3.34657373 -5.54328211  2.45509678]\n"
     ]
    }
   ],
   "source": [
    "result = op.minimize(fun=costFunction_reg, x0=init_theta.flatten(),args=(X,Y.flatten(),lambd),method='TNC',jac=gradient_reg,options={'maxiter':Iters})\n",
    "print(result)\n",
    "theta = result.x\n",
    "print(theta)"
   ]
  },
  {
   "attachments": {},
   "cell_type": "markdown",
   "metadata": {},
   "source": [
    "## plot boundary"
   ]
  },
  {
   "cell_type": "code",
   "execution_count": 16,
   "metadata": {},
   "outputs": [
    {
     "data": {
      "image/png": "[encoded data removed]",
      "text/plain": [
       "<Figure size 432x288 with 1 Axes>"
      ]
     },
     "metadata": {
      "needs_background": "light"
     },
     "output_type": "display_data"
    }
   ],
   "source": [
    "x = np.linspace(-1.2, 1.2, 200)\n",
    "xx, yy = np.meshgrid(x, x)\n",
    "z = feature_mapping(xx.ravel(), yy.ravel(), dim).values\n",
    "zz = z @ theta\n",
    "zz = zz.reshape(xx.shape)\n",
    "fig, ax = plt.subplots()\n",
    "PlotData(Data2.iloc[:, 0:2].values.T,Data2.iloc[:, -1].values.T)\n",
    "ax.legend()\n",
    "ax.set_xlabel('test1')\n",
    "ax.set_ylabel('test2')\n",
    "plt.contour(xx, yy, zz, 0)\n",
    "plt.show()\n"
   ]
  },
  {
   "attachments": {},
   "cell_type": "markdown",
   "metadata": {},
   "source": [
    "## Predict"
   ]
  },
  {
   "cell_type": "code",
   "execution_count": 17,
   "metadata": {},
   "outputs": [],
   "source": [
    "def predict(theta,X):\n",
    "    prob = Sigmoid(theta.T@X)\n",
    "    return [1 if x >= 0.5 else 0 for x in prob]"
   ]
  },
  {
   "cell_type": "code",
   "execution_count": 18,
   "metadata": {},
   "outputs": [
    {
     "name": "stdout",
     "output_type": "stream",
     "text": [
      "The test accuracy of this model is 85.59%\n"
     ]
    }
   ],
   "source": [
    "y_pre = np.array(predict(theta, X)).reshape(1,-1)\n",
    "acc = np.mean(y_pre == Y)\n",
    "print(f'The test accuracy of this model is {acc*100:.2f}%')"
   ]
  }
 ],
 "metadata": {
  "kernelspec": {
   "display_name": "base",
   "language": "python",
   "name": "python3"
  },
  "language_info": {
   "codemirror_mode": {
    "name": "ipython",
    "version": 3
   },
   "file_extension": ".py",
   "mimetype": "text/x-python",
   "name": "python",
   "nbconvert_exporter": "python",
   "pygments_lexer": "ipython3",
   "version": "3.9.12"
  },
  "orig_nbformat": 4
 },
 "nbformat": 4,
 "nbformat_minor": 2
}
