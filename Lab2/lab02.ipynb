{
 "cells": [
  {
   "attachments": {},
   "cell_type": "markdown",
   "metadata": {},
   "source": [
    "## envioroment importion"
   ]
  },
  {
   "cell_type": "code",
   "execution_count": 1,
   "metadata": {},
   "outputs": [],
   "source": [
    "import pandas as pd\n",
    "import numpy as np\n",
    "import matplotlib.pyplot as plt\n",
    "import scipy.optimize as op\n",
    "path1 = 'D:\\Projects_VSCode\\Projects_py\\ML_NKU\\Lab2\\machine-learning-ex2\\ex2\\ex2data1.txt'\n",
    "path2 = 'D:\\Projects_VSCode\\Projects_py\\ML_NKU\\Lab2\\machine-learning-ex2\\ex2\\ex2data2.txt'"
   ]
  },
  {
   "attachments": {},
   "cell_type": "markdown",
   "metadata": {},
   "source": [
    "### plot data"
   ]
  },
  {
   "cell_type": "code",
   "execution_count": 2,
   "metadata": {},
   "outputs": [],
   "source": [
    "def PlotData(X,Y):\n",
    "    pos = np.argwhere(Y==1).reshape(1,-1)[0]\n",
    "    neg = np.argwhere(Y==0).reshape(1,-1)[0]\n",
    "    f1 = plt.figure(1)\n",
    "    plt.scatter(X[0,pos],X[1,pos],c='k',marker='+', label='y=1')\n",
    "    plt.scatter(X[0,neg],X[1,neg],c='y',marker='o', label='y=0')\n",
    "\n",
    "    return f1\n"
   ]
  },
  {
   "attachments": {},
   "cell_type": "markdown",
   "metadata": {},
   "source": [
    "### sigmoid function"
   ]
  },
  {
   "cell_type": "code",
   "execution_count": 3,
   "metadata": {},
   "outputs": [],
   "source": [
    "def Sigmoid(z):\n",
    "    return 1/(1+np.exp(-z))\n"
   ]
  },
  {
   "attachments": {},
   "cell_type": "markdown",
   "metadata": {},
   "source": [
    "# ex2"
   ]
  },
  {
   "attachments": {},
   "cell_type": "markdown",
   "metadata": {},
   "source": [
    "## data loader"
   ]
  },
  {
   "cell_type": "code",
   "execution_count": 4,
   "metadata": {},
   "outputs": [],
   "source": [
    "Data1 = np.array(pd.read_csv(path1,header=None))"
   ]
  },
  {
   "cell_type": "code",
   "execution_count": 5,
   "metadata": {},
   "outputs": [],
   "source": [
    "X = Data1[:,0:2].T\n",
    "Y = Data1[:,2].reshape(1,-1)\n",
    "n,m = X.shape"
   ]
  },
  {
   "cell_type": "code",
   "execution_count": 6,
   "metadata": {},
   "outputs": [
    {
     "data": {
      "image/png": "[encoded data removed]",
      "text/plain": [
       "<Figure size 432x288 with 1 Axes>"
      ]
     },
     "execution_count": 6,
     "metadata": {},
     "output_type": "execute_result"
    },
    {
     "data": {
      "image/png": "[encoded data removed]",
      "text/plain": [
       "<Figure size 432x288 with 1 Axes>"
      ]
     },
     "metadata": {
      "needs_background": "light"
     },
     "output_type": "display_data"
    }
   ],
   "source": [
    "PlotData(X,Y)"
   ]
  },
  {
   "attachments": {},
   "cell_type": "markdown",
   "metadata": {},
   "source": [
    "## Compute cost and gradient"
   ]
  },
  {
   "cell_type": "code",
   "execution_count": 7,
   "metadata": {},
   "outputs": [],
   "source": [
    "X = np.insert(X, n, np.ones(m),axis=0)\n",
    "init_theta = np.zeros((n+1,1))\n"
   ]
  },
  {
   "attachments": {},
   "cell_type": "markdown",
   "metadata": {},
   "source": [
    "### cost function"
   ]
  },
  {
   "cell_type": "code",
   "execution_count": 8,
   "metadata": {},
   "outputs": [],
   "source": [
    "def costFunction(theta, X, y):\n",
    "    hx = Sigmoid(theta.T.dot(X))\n",
    "    J = -np.sum(y*np.log(hx)+(1-y)*np.log(1-hx))/m\n",
    "    return J"
   ]
  },
  {
   "cell_type": "code",
   "execution_count": 9,
   "metadata": {},
   "outputs": [
    {
     "name": "stdout",
     "output_type": "stream",
     "text": [
      "0.6931471805599453\n"
     ]
    }
   ],
   "source": [
    "# test\n",
    "print(costFunction(theta=init_theta, X=X, y=Y))"
   ]
  },
  {
   "attachments": {},
   "cell_type": "markdown",
   "metadata": {},
   "source": [
    "### gradient"
   ]
  },
  {
   "cell_type": "code",
   "execution_count": 10,
   "metadata": {},
   "outputs": [],
   "source": [
    "def gradient(theta, X, y):\n",
    "    grad = np.zeros(theta.shape)\n",
    "    hx = Sigmoid(theta.T.dot(X))\n",
    "    grad = ((hx-y)@X.T).T\n",
    "    return grad"
   ]
  },
  {
   "attachments": {},
   "cell_type": "markdown",
   "metadata": {},
   "source": [
    "## Optimizaing"
   ]
  },
  {
   "cell_type": "code",
   "execution_count": 11,
   "metadata": {},
   "outputs": [
    {
     "data": {
      "text/plain": [
       "array([  0.20597439,   0.20121145, -25.1291728 ])"
      ]
     },
     "execution_count": 11,
     "metadata": {},
     "output_type": "execute_result"
    }
   ],
   "source": [
    "result = op.minimize(fun=costFunction, x0=init_theta.flatten(),args=(X,Y.flatten()),method='TNC',jac=gradient)\n",
    "min_theta = result.x\n",
    "min_theta"
   ]
  },
  {
   "attachments": {},
   "cell_type": "markdown",
   "metadata": {},
   "source": [
    "## Plot Boundary"
   ]
  },
  {
   "cell_type": "code",
   "execution_count": 12,
   "metadata": {},
   "outputs": [],
   "source": [
    "def PlotBoundary(theta,X,Y):\n",
    "    plt.figure(1)\n",
    "    f1 = PlotData(X,Y)\n",
    "    x = np.linspace(30,100,1000)\n",
    "    a = theta[0]\n",
    "    b = theta[1]\n",
    "    c = theta[2]\n",
    "    plt.plot(x,-(a*x+c)/b, 'b-')\n",
    "    plt.xlabel('Exam 1')\n",
    "    plt.ylabel('Exam 2')\n",
    "    plt.ylim(30,100)"
   ]
  },
  {
   "cell_type": "code",
   "execution_count": 13,
   "metadata": {},
   "outputs": [
    {
     "data": {
      "image/png": "[encoded data removed]",
      "text/plain": [
       "<Figure size 432x288 with 1 Axes>"
      ]
     },
     "metadata": {
      "needs_background": "light"
     },
     "output_type": "display_data"
    }
   ],
   "source": [
    "PlotBoundary(min_theta,X,Y)\n",
    "plt.show()"
   ]
  },
  {
   "attachments": {},
   "cell_type": "markdown",
   "metadata": {},
   "source": [
    "## Predict"
   ]
  },
  {
   "cell_type": "code",
   "execution_count": null,
   "metadata": {},
   "outputs": [],
   "source": [
    "def predict(theta,X):\n",
    "    prob = Sigmoid(theta.T@X)\n",
    "    return [1 if x >= 0.5 else 0 for x in prob]"
   ]
  },
  {
   "attachments": {},
   "cell_type": "markdown",
   "metadata": {},
   "source": [
    "a student with score 45 and 85"
   ]
  },
  {
   "cell_type": "code",
   "execution_count": 20,
   "metadata": {},
   "outputs": [
    {
     "name": "stdout",
     "output_type": "stream",
     "text": [
      "For a student with scores 45 and 85, we predict an admission probability of 77.60%\n"
     ]
    }
   ],
   "source": [
    "x_test = np.array([45,85,1]).T\n",
    "prob = Sigmoid(x_test@min_theta)\n",
    "print(f'For a student with scores 45 and 85, we predict an admission probability of {prob*100:.2f}%')"
   ]
  },
  {
   "attachments": {},
   "cell_type": "markdown",
   "metadata": {},
   "source": [
    "## Accuracy"
   ]
  },
  {
   "cell_type": "code",
   "execution_count": 14,
   "metadata": {},
   "outputs": [
    {
     "name": "stdout",
     "output_type": "stream",
     "text": [
      "The test accuracy of this model is 89.00%\n"
     ]
    }
   ],
   "source": [
    "y_pre = np.array(predict(min_theta, X)).reshape(1,-1)\n",
    "acc = np.mean(y_pre == Y)\n",
    "print(f'The test accuracy of this model is {acc*100:.2f}%')"
   ]
  },
  {
   "attachments": {},
   "cell_type": "markdown",
   "metadata": {},
   "source": [
    "# ex2_reg"
   ]
  },
  {
   "attachments": {},
   "cell_type": "markdown",
   "metadata": {},
   "source": [
    "## data loader"
   ]
  },
  {
   "cell_type": "code",
   "execution_count": 130,
   "metadata": {},
   "outputs": [],
   "source": [
    "Data2 = pd.read_csv(path2, names=['test1', 'test2', 'Accepted'])"
   ]
  },
  {
   "attachments": {},
   "cell_type": "markdown",
   "metadata": {},
   "source": [
    "## show data"
   ]
  },
  {
   "cell_type": "code",
   "execution_count": 131,
   "metadata": {},
   "outputs": [
    {
     "data": {
      "image/png": "[encoded data removed]",
      "text/plain": [
       "<Figure size 432x288 with 1 Axes>"
      ]
     },
     "execution_count": 131,
     "metadata": {},
     "output_type": "execute_result"
    },
    {
     "data": {
      "image/png": "[encoded data removed]",
      "text/plain": [
       "<Figure size 432x288 with 1 Axes>"
      ]
     },
     "metadata": {
      "needs_background": "light"
     },
     "output_type": "display_data"
    }
   ],
   "source": [
    "PlotData(Data2.iloc[:, 0:2].values.T,Data2.iloc[:, -1].values.T)\n",
    "# plt.show()"
   ]
  },
  {
   "attachments": {},
   "cell_type": "markdown",
   "metadata": {},
   "source": [
    "## hyper parameter"
   ]
  },
  {
   "cell_type": "code",
   "execution_count": 132,
   "metadata": {},
   "outputs": [],
   "source": [
    "lambd = 1\n",
    "dim = 6 #max dimension when feature mapping\n",
    "Iters = 400"
   ]
  },
  {
   "attachments": {},
   "cell_type": "markdown",
   "metadata": {},
   "source": [
    "## logistic regression"
   ]
  },
  {
   "attachments": {},
   "cell_type": "markdown",
   "metadata": {},
   "source": [
    "### feature mapping"
   ]
  },
  {
   "cell_type": "code",
   "execution_count": 133,
   "metadata": {},
   "outputs": [],
   "source": [
    "def feature_mapping(x1, x2, power):\n",
    "    data = {}\n",
    "    for i in np.arange(power + 1):\n",
    "        for j in np.arange(i + 1):\n",
    "            data['F{}{}'.format(i - j, j)] = np.power(x1, i - j) * np.power(x2, j)\n",
    "    return pd.DataFrame(data)\n"
   ]
  },
  {
   "cell_type": "code",
   "execution_count": 134,
   "metadata": {},
   "outputs": [
    {
     "name": "stdout",
     "output_type": "stream",
     "text": [
      "     F00       F10       F01       F20       F11       F02           F30  \\\n",
      "0    1.0  0.051267  0.699560  0.002628  0.035864  0.489384  1.347453e-04   \n",
      "1    1.0 -0.092742  0.684940  0.008601 -0.063523  0.469143 -7.976812e-04   \n",
      "2    1.0 -0.213710  0.692250  0.045672 -0.147941  0.479210 -9.760555e-03   \n",
      "3    1.0 -0.375000  0.502190  0.140625 -0.188321  0.252195 -5.273438e-02   \n",
      "4    1.0 -0.513250  0.465640  0.263426 -0.238990  0.216821 -1.352032e-01   \n",
      "..   ...       ...       ...       ...       ...       ...           ...   \n",
      "113  1.0 -0.720620  0.538740  0.519293 -0.388227  0.290241 -3.742131e-01   \n",
      "114  1.0 -0.593890  0.494880  0.352705 -0.293904  0.244906 -2.094682e-01   \n",
      "115  1.0 -0.484450  0.999270  0.234692 -0.484096  0.998541 -1.136964e-01   \n",
      "116  1.0 -0.006336  0.999270  0.000040 -0.006332  0.998541 -2.544062e-07   \n",
      "117  1.0  0.632650 -0.030612  0.400246 -0.019367  0.000937  2.532156e-01   \n",
      "\n",
      "          F21       F12       F03  ...       F23           F14           F05  \\\n",
      "0    0.001839  0.025089  0.342354  ...  0.000900  1.227829e-02  1.675424e-01   \n",
      "1    0.005891 -0.043509  0.321335  ...  0.002764 -2.041205e-02  1.507518e-01   \n",
      "2    0.031616 -0.102412  0.331733  ...  0.015151 -4.907685e-02  1.589699e-01   \n",
      "3    0.070620 -0.094573  0.126650  ...  0.017810 -2.385083e-02  3.194040e-02   \n",
      "4    0.122661 -0.111283  0.100960  ...  0.026596 -2.412849e-02  2.189028e-02   \n",
      "..        ...       ...       ...  ...       ...           ...           ...   \n",
      "113  0.279764 -0.209153  0.156364  ...  0.081199 -6.070482e-02  4.538330e-02   \n",
      "114  0.174547 -0.145447  0.121199  ...  0.042748 -3.562096e-02  2.968243e-02   \n",
      "115  0.234520 -0.483743  0.997812  ...  0.234178 -4.830370e-01  9.963553e-01   \n",
      "116  0.000040 -0.006327  0.997812  ...  0.000040 -6.317918e-03  9.963553e-01   \n",
      "117 -0.012252  0.000593 -0.000029  ... -0.000011  5.555592e-07 -2.688181e-08   \n",
      "\n",
      "              F60           F51           F42           F33           F24  \\\n",
      "0    1.815630e-08  2.477505e-07  3.380660e-06  4.613055e-05  6.294709e-04   \n",
      "1    6.362953e-07 -4.699318e-06  3.470651e-05 -2.563226e-04  1.893054e-03   \n",
      "2    9.526844e-05 -3.085938e-04  9.995978e-04 -3.237900e-03  1.048821e-02   \n",
      "3    2.780914e-03 -3.724126e-03  4.987251e-03 -6.678793e-03  8.944062e-03   \n",
      "4    1.827990e-02 -1.658422e-02  1.504584e-02 -1.365016e-02  1.238395e-02   \n",
      "..            ...           ...           ...           ...           ...   \n",
      "113  1.400354e-01 -1.046913e-01  7.826790e-02 -5.851357e-02  4.374511e-02   \n",
      "114  4.387691e-02 -3.656200e-02  3.046659e-02 -2.538737e-02  2.115493e-02   \n",
      "115  1.292688e-02 -2.666414e-02  5.499985e-02 -1.134476e-01  2.340073e-01   \n",
      "116  6.472253e-14 -1.020695e-11  1.609667e-09 -2.538495e-07  4.003286e-05   \n",
      "117  6.411816e-02 -3.102482e-03  1.501196e-04 -7.263830e-06  3.514745e-07   \n",
      "\n",
      "              F15           F06  \n",
      "0    8.589398e-03  1.172060e-01  \n",
      "1   -1.398103e-02  1.032560e-01  \n",
      "2   -3.397345e-02  1.100469e-01  \n",
      "3   -1.197765e-02  1.604015e-02  \n",
      "4   -1.123519e-02  1.019299e-02  \n",
      "..            ...           ...  \n",
      "113 -3.270412e-02  2.444980e-02  \n",
      "114 -1.762810e-02  1.468924e-02  \n",
      "115 -4.826843e-01  9.956280e-01  \n",
      "116 -6.313306e-03  9.956280e-01  \n",
      "117 -1.700678e-08  8.229060e-10  \n",
      "\n",
      "[118 rows x 28 columns]\n"
     ]
    }
   ],
   "source": [
    "x1 = Data2['test1']\n",
    "x2 = Data2['test2']\n",
    "data2 = feature_mapping(x1, x2, dim)\n",
    "print(data2)"
   ]
  },
  {
   "attachments": {},
   "cell_type": "markdown",
   "metadata": {},
   "source": [
    "### dataset"
   ]
  },
  {
   "cell_type": "code",
   "execution_count": 135,
   "metadata": {},
   "outputs": [
    {
     "name": "stdout",
     "output_type": "stream",
     "text": [
      "(28, 118)\n",
      "(1, 118)\n"
     ]
    }
   ],
   "source": [
    "X = data2.values.T\n",
    "\n",
    "print(X.shape)\n",
    "Y = Data2.iloc[:, -1].values.reshape(1,-1)\n",
    "\n",
    "\n",
    "print(Y.shape)"
   ]
  },
  {
   "attachments": {},
   "cell_type": "markdown",
   "metadata": {},
   "source": [
    "## Compute cost and gradient"
   ]
  },
  {
   "attachments": {},
   "cell_type": "markdown",
   "metadata": {},
   "source": [
    "### cost function"
   ]
  },
  {
   "cell_type": "code",
   "execution_count": 136,
   "metadata": {},
   "outputs": [],
   "source": [
    "def costFunction_reg(theta,X,Y,lambd):\n",
    "    J = costFunction(theta,X,Y)\n",
    "    J += lambd*np.sum(theta)/(2*m)\n",
    "    return J"
   ]
  },
  {
   "cell_type": "code",
   "execution_count": 137,
   "metadata": {},
   "outputs": [
    {
     "name": "stdout",
     "output_type": "stream",
     "text": [
      "(28, 1)\n"
     ]
    }
   ],
   "source": [
    "init_theta = np.zeros((X.shape[0],1))\n",
    "print(init_theta.shape)"
   ]
  },
  {
   "cell_type": "code",
   "execution_count": 138,
   "metadata": {},
   "outputs": [
    {
     "name": "stdout",
     "output_type": "stream",
     "text": [
      "0.8179136730607355\n"
     ]
    }
   ],
   "source": [
    "# test\n",
    "print(costFunction_reg(init_theta,X,Y,lambd=lambd))"
   ]
  },
  {
   "attachments": {},
   "cell_type": "markdown",
   "metadata": {},
   "source": [
    "### gradient"
   ]
  },
  {
   "cell_type": "code",
   "execution_count": 139,
   "metadata": {},
   "outputs": [],
   "source": [
    "def gradient_reg(theta,X,Y,lambd):\n",
    "    grad = gradient(theta,X,Y)\n",
    "    grad+=lambd*theta/m\n",
    "    return grad"
   ]
  },
  {
   "attachments": {},
   "cell_type": "markdown",
   "metadata": {},
   "source": [
    "## Optimizing"
   ]
  },
  {
   "cell_type": "code",
   "execution_count": 140,
   "metadata": {},
   "outputs": [
    {
     "name": "stdout",
     "output_type": "stream",
     "text": [
      "[  5.60148113   4.37143708   7.25464458  -1.90461691 -12.26388776\n",
      " -10.54947596   3.97825905  -1.07132165   3.56984444  -0.60731844\n",
      "  -8.98023004  11.10749327 -11.08571016  -5.91972819  -8.75818275\n",
      "  -4.20016326   0.88719589  10.30742779  -8.95486707  -8.4503246\n",
      "   1.70914469 -13.28213901   7.83813051  -4.60901416   6.76390176\n",
      "  -9.71816784  -8.19954352  -2.21508253]\n"
     ]
    }
   ],
   "source": [
    "result = op.minimize(fun=costFunction_reg, x0=init_theta.flatten(),args=(X,Y.flatten(),lambd),method='TNC',jac=gradient_reg,options={'maxiter':Iters})\n",
    "\n",
    "theta = result.x\n",
    "print(theta)"
   ]
  },
  {
   "attachments": {},
   "cell_type": "markdown",
   "metadata": {},
   "source": [
    "## plot boundary"
   ]
  },
  {
   "cell_type": "code",
   "execution_count": 141,
   "metadata": {},
   "outputs": [
    {
     "data": {
      "image/png": "[encoded data removed]",
      "text/plain": [
       "<Figure size 432x288 with 1 Axes>"
      ]
     },
     "metadata": {
      "needs_background": "light"
     },
     "output_type": "display_data"
    }
   ],
   "source": [
    "x = np.linspace(-1.2, 1.2, 200)\n",
    "xx, yy = np.meshgrid(x, x)\n",
    "z = feature_mapping(xx.ravel(), yy.ravel(), dim).values\n",
    "zz = z @ theta\n",
    "zz = zz.reshape(xx.shape)\n",
    "fig, ax = plt.subplots()\n",
    "PlotData(Data2.iloc[:, 0:2].values.T,Data2.iloc[:, -1].values.T)\n",
    "ax.legend()\n",
    "ax.set_xlabel('test1')\n",
    "ax.set_ylabel('test2')\n",
    "plt.contour(xx, yy, zz, 0)\n",
    "plt.show()\n"
   ]
  },
  {
   "attachments": {},
   "cell_type": "markdown",
   "metadata": {},
   "source": [
    "## Predict"
   ]
  },
  {
   "cell_type": "code",
   "execution_count": 143,
   "metadata": {},
   "outputs": [
    {
     "name": "stdout",
     "output_type": "stream",
     "text": [
      "The test accuracy of this model is 0.8390\n"
     ]
    }
   ],
   "source": [
    "y_pre = np.array(predict(theta, X)).reshape(1,-1)\n",
    "acc = np.mean(y_pre == Y)\n",
    "print(f'The test accuracy of this model is {acc*100:.2f}%')"
   ]
  }
 ],
 "metadata": {
  "kernelspec": {
   "display_name": "base",
   "language": "python",
   "name": "python3"
  },
  "language_info": {
   "codemirror_mode": {
    "name": "ipython",
    "version": 3
   },
   "file_extension": ".py",
   "mimetype": "text/x-python",
   "name": "python",
   "nbconvert_exporter": "python",
   "pygments_lexer": "ipython3",
   "version": "3.9.12"
  },
  "orig_nbformat": 4
 },
 "nbformat": 4,
 "nbformat_minor": 2
}
