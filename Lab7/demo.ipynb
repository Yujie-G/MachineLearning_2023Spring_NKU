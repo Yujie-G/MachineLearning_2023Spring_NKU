{
 "cells": [
  {
   "attachments": {},
   "cell_type": "markdown",
   "metadata": {},
   "source": [
    "# 基于MindSpore 德国信用数据二分类"
   ]
  },
  {
   "attachments": {},
   "cell_type": "markdown",
   "metadata": {},
   "source": [
    "## package import"
   ]
  },
  {
   "cell_type": "code",
   "execution_count": 1624,
   "metadata": {},
   "outputs": [],
   "source": [
    "import numpy as np\n",
    "import pandas as pd\n",
    "import matplotlib.pyplot as plt\n",
    "from tqdm import tqdm\n",
    "import mindspore as ms\n",
    "from mindspore import nn\n",
    "from mindspore import dataset\n",
    "from mindspore.train.callback import LossMonitor\n",
    "from mindspore import ops\n",
    "from mindspore.ops import operations as P"
   ]
  },
  {
   "attachments": {},
   "cell_type": "markdown",
   "metadata": {},
   "source": [
    "## read data"
   ]
  },
  {
   "cell_type": "code",
   "execution_count": 1625,
   "metadata": {},
   "outputs": [],
   "source": [
    "data = pd.read_csv('german_credit_data.csv')"
   ]
  },
  {
   "attachments": {},
   "cell_type": "markdown",
   "metadata": {},
   "source": [
    "## hyper parameter"
   ]
  },
  {
   "cell_type": "code",
   "execution_count": 1626,
   "metadata": {},
   "outputs": [],
   "source": [
    "learning_rate = 0.1\n",
    "epochs = 120\n",
    "batch_size = 16\n",
    "pred_threshold = 0.5\n",
    "DS_SPLIT = [0.75, 0.05, 0.2] # train, val, test"
   ]
  },
  {
   "attachments": {},
   "cell_type": "markdown",
   "metadata": {},
   "source": [
    "### set same seed"
   ]
  },
  {
   "cell_type": "code",
   "execution_count": 1627,
   "metadata": {},
   "outputs": [],
   "source": [
    "ms.set_seed(777)\n",
    "np.random.seed(777)"
   ]
  },
  {
   "attachments": {},
   "cell_type": "markdown",
   "metadata": {},
   "source": [
    "## process data"
   ]
  },
  {
   "attachments": {},
   "cell_type": "markdown",
   "metadata": {},
   "source": [
    "### get pred features"
   ]
  },
  {
   "cell_type": "code",
   "execution_count": 1628,
   "metadata": {},
   "outputs": [
    {
     "name": "stdout",
     "output_type": "stream",
     "text": [
      "['duration_months', 'credit_amount', 'installment_rate', 'present_residence_since', 'age_years', 'number_existing_credits', 'checking_status', 'credit_history', 'purpose', 'savings_account', 'present_employment_since', 'debtors_guarantors', 'property', 'installment_plans', 'housing', 'job', 'number_people_liable', 'telephone', 'foreign_worker', 'gender']\n"
     ]
    }
   ],
   "source": [
    "predictive_features = [ f for f in list(data.columns.values) if f not in ['id', 'label']]\n",
    "\n",
    "print( predictive_features)"
   ]
  },
  {
   "attachments": {},
   "cell_type": "markdown",
   "metadata": {},
   "source": [
    "### seperate num & categorial"
   ]
  },
  {
   "cell_type": "code",
   "execution_count": 1629,
   "metadata": {},
   "outputs": [
    {
     "name": "stdout",
     "output_type": "stream",
     "text": [
      "['checking_status', 'credit_history', 'purpose', 'savings_account', 'present_employment_since', 'debtors_guarantors', 'property', 'installment_plans', 'housing', 'job', 'telephone', 'foreign_worker', 'gender']\n",
      "['duration_months', 'credit_amount', 'installment_rate', 'present_residence_since', 'age_years', 'number_existing_credits', 'number_people_liable']\n"
     ]
    }
   ],
   "source": [
    "ctg_features = [f for f in list(data.select_dtypes(include='object')) if f in predictive_features]\n",
    "num_features = [f for f in predictive_features if f not in ctg_features]\n",
    "\n",
    "print(ctg_features)\n",
    "print(num_features)"
   ]
  },
  {
   "attachments": {},
   "cell_type": "markdown",
   "metadata": {},
   "source": [
    "### save to training data"
   ]
  },
  {
   "cell_type": "code",
   "execution_count": 1630,
   "metadata": {},
   "outputs": [],
   "source": [
    "Y = np.array(list(data['label']), np.float32).reshape(-1,1)\n",
    "\n",
    "X = data[predictive_features]\n",
    "\n",
    "prefix_feature = {'checking_status':'A1',\n",
    "               'credit_history':'A3',\n",
    "               'purpose':'A4',\n",
    "               'savings_account':'A6', \n",
    "               'present_employment_since':'A7', \n",
    "               'debtors_guarantors':'A10', \n",
    "               'property':'A12', \n",
    "               'installment_plans':'A14', \n",
    "               'housing':'A15', \n",
    "               'job':'A17', \n",
    "               'telephone':'A19', \n",
    "               'foreign_worker':'A20'}\n",
    "for f in num_features:\n",
    "    for index, element in enumerate(X[f]):\n",
    "        X.loc[index, f] = float(element)\n",
    "\n",
    "for f in ctg_features:\n",
    "    for index, element in enumerate(X[f]):\n",
    "        if f=='gender':\n",
    "            X.loc[index, f] = 1. if element=='male' else .0\n",
    "        else:\n",
    "            X.loc[index, f] = float(element.replace(prefix_feature[f],''))\n",
    "\n",
    "\n",
    "X = np.array(X.values.tolist(), np.float32)\n",
    "\n",
    "# nomalization\n",
    "X = (X-np.mean(X,axis=0))/np.std(X,axis=0)\n"
   ]
  },
  {
   "attachments": {},
   "cell_type": "markdown",
   "metadata": {},
   "source": [
    "### train-test split"
   ]
  },
  {
   "cell_type": "code",
   "execution_count": 1631,
   "metadata": {},
   "outputs": [],
   "source": [
    "MyDataset = dataset.NumpySlicesDataset((X,Y),['X','y'], shuffle=False)\n",
    "ds_train,ds_val, ds_test = MyDataset.split(sizes=DS_SPLIT, randomize=True)"
   ]
  },
  {
   "cell_type": "code",
   "execution_count": 1632,
   "metadata": {},
   "outputs": [
    {
     "name": "stdout",
     "output_type": "stream",
     "text": [
      "750\n"
     ]
    }
   ],
   "source": [
    "print(ds_train.get_dataset_size())"
   ]
  },
  {
   "attachments": {},
   "cell_type": "markdown",
   "metadata": {},
   "source": [
    "### batch"
   ]
  },
  {
   "cell_type": "code",
   "execution_count": 1633,
   "metadata": {},
   "outputs": [],
   "source": [
    "ds_train = ds_train.shuffle(buffer_size=800).batch(batch_size)# , drop_remainder=True\n",
    "ds_val = ds_val.batch(batch_size)\n",
    "ds_test = ds_test.batch(batch_size)\n",
    "# print(ds_train.get_dataset_size())"
   ]
  },
  {
   "attachments": {},
   "cell_type": "markdown",
   "metadata": {},
   "source": [
    "## Train"
   ]
  },
  {
   "attachments": {},
   "cell_type": "markdown",
   "metadata": {},
   "source": [
    "### loss"
   ]
  },
  {
   "cell_type": "code",
   "execution_count": 1634,
   "metadata": {},
   "outputs": [],
   "source": [
    "class Loss (nn.Cell):\n",
    "    def __init__(self):\n",
    "        super(Loss, self).__init__()\n",
    "        self.sigmoid_cross_entropy = P.SigmoidCrossEntropyWithLogits()\n",
    "        self.reduce_mean = P.ReduceMean()\n",
    "\n",
    "    def construct(self, logits, labels):\n",
    "        loss = self.sigmoid_cross_entropy(logits, labels)\n",
    "        loss =  (loss[0] + 5 * loss[1])/6\n",
    "        loss = self.reduce_mean(loss)\n",
    "        return loss"
   ]
  },
  {
   "attachments": {},
   "cell_type": "markdown",
   "metadata": {},
   "source": [
    "### model"
   ]
  },
  {
   "cell_type": "code",
   "execution_count": 1635,
   "metadata": {},
   "outputs": [],
   "source": [
    "class Network(nn.Cell):\n",
    "    def __init__(self):\n",
    "        super().__init__()\n",
    "        self.flatten = nn.Flatten()\n",
    "        self.linear_sequential = nn.SequentialCell(\n",
    "            nn.Dense(20, 32),\n",
    "            nn.ReLU(),\n",
    "            nn.Dense(32, 64),\n",
    "            # nn.ReLU(),\n",
    "            nn.Dense(64, 64),\n",
    "            # nn.ReLU(),\n",
    "            nn.Dense(64, 32),\n",
    "            nn.ReLU(),\n",
    "            # nn.Dropout(keep_prob=0.5),\n",
    "            # nn.ReLU(),\n",
    "            # nn.Dense(20, 17),\n",
    "            # nn.ReLU(),\n",
    "            # nn.Dense(17,17),\n",
    "            # nn.ReLU(),\n",
    "            nn.Dense(32, 1),\n",
    "        )\n",
    "        self.sigmoid = nn.Sigmoid()\n",
    "\n",
    "    def construct(self, x):\n",
    "        x = self.flatten(x)\n",
    "        x = self.linear_sequential(x)\n",
    "        x = self.sigmoid(x)\n",
    "        return x\n"
   ]
  },
  {
   "cell_type": "code",
   "execution_count": 1636,
   "metadata": {},
   "outputs": [],
   "source": [
    "net = Network()\n",
    "loss = Loss()\n",
    "opt = nn.optim.Adam(net.trainable_params(), learning_rate=learning_rate)\n",
    "# myModel = ms.train.Model(net, loss, opt)\n",
    "# myModel.train(epochs, ds_train, callbacks=[LossMonitor(per_print_times=100)], dataset_sink_mode=False)"
   ]
  },
  {
   "attachments": {},
   "cell_type": "markdown",
   "metadata": {},
   "source": [
    "### train loop"
   ]
  },
  {
   "cell_type": "code",
   "execution_count": 1637,
   "metadata": {},
   "outputs": [],
   "source": [
    "def train_loop(model, dataset, loss_fn, optimizer):\n",
    "    # Define forward function\n",
    "    def forward_fn(data, label):\n",
    "        logits = model(data)\n",
    "        loss = loss_fn(logits, label)\n",
    "        return loss, logits\n",
    "\n",
    "    # Get gradient function\n",
    "    grad_fn = ops.value_and_grad(forward_fn, None, optimizer.parameters, has_aux=True)\n",
    "\n",
    "    # Define function of one-step training\n",
    "    def train_step(data, label):\n",
    "        (loss, _), grads = grad_fn(data, label)\n",
    "        loss = ops.depend(loss, optimizer(grads))\n",
    "        return loss\n",
    "\n",
    "    num_batches = dataset.get_dataset_size()\n",
    "    tot_loss = 0\n",
    "    model.set_train()\n",
    "    for batch, (data, label) in enumerate(dataset.create_tuple_iterator()):\n",
    "        loss = train_step(data, label)\n",
    "        # if batch % 100 == 0:\n",
    "        #     loss, current = loss.asnumpy(), batch\n",
    "        #     print(f\"loss: {loss:>7f}  [{current:>3d}/{size:>3d}]\")\n",
    "    model.set_train(False)\n",
    "    total, train_loss, correct = 0, 0, 0\n",
    "    for data, label in dataset.create_tuple_iterator():\n",
    "        pred = model(data)\n",
    "        total += len(data)\n",
    "        train_loss += loss_fn(pred, label).asnumpy()\n",
    "        pred = np.where(pred > pred_threshold, 1, 0)\n",
    "        correct += np.sum([pred==label])\n",
    "    train_loss /= num_batches\n",
    "    correct /= total\n",
    "    return correct, train_loss\n"
   ]
  },
  {
   "attachments": {},
   "cell_type": "markdown",
   "metadata": {},
   "source": [
    "### val loop"
   ]
  },
  {
   "cell_type": "code",
   "execution_count": 1638,
   "metadata": {},
   "outputs": [],
   "source": [
    "def val_loop(model, dataset, loss_fn):\n",
    "    model.set_train(False)\n",
    "    num_batches = dataset.get_dataset_size()\n",
    "    total, val_loss, correct = 0, 0, 0\n",
    "    for data, label in dataset.create_tuple_iterator():\n",
    "        pred = model(data)\n",
    "        total += len(data)\n",
    "        val_loss += loss_fn(pred, label).asnumpy()\n",
    "        pred = np.where(pred > pred_threshold, 1, 0)\n",
    "        correct += np.sum([pred==label])\n",
    "    val_loss /= num_batches\n",
    "    correct /= total\n",
    "    return correct, val_loss"
   ]
  },
  {
   "attachments": {},
   "cell_type": "markdown",
   "metadata": {},
   "source": [
    "## Test"
   ]
  },
  {
   "cell_type": "code",
   "execution_count": 1639,
   "metadata": {},
   "outputs": [],
   "source": [
    "def Test(model, dataset, loss_fn):\n",
    "    num_batches = dataset.get_dataset_size()\n",
    "    model.set_train(False)\n",
    "    total, test_loss, correct = 0, 0, 0\n",
    "    for data, label in dataset.create_tuple_iterator():\n",
    "        pred = model(data)\n",
    "        # print(pred)\n",
    "        total += len(data)\n",
    "        test_loss += loss_fn(pred, label).asnumpy()\n",
    "        pred_label = np.where(pred > pred_threshold, 1, 0)\n",
    "        correct += np.sum([pred_label==label])\n",
    "    test_loss /= num_batches\n",
    "    correct /= total\n",
    "    return correct, test_loss\n",
    "    # print(f\" Test Acc: {(100*correct):>0.2f}%, loss: {test_loss:>8f}\")\n"
   ]
  },
  {
   "attachments": {},
   "cell_type": "markdown",
   "metadata": {},
   "source": [
    "## main : start training!"
   ]
  },
  {
   "cell_type": "code",
   "execution_count": 1640,
   "metadata": {},
   "outputs": [
    {
     "name": "stderr",
     "output_type": "stream",
     "text": [
      "100%|██████████| 120/120 [03:49<00:00,  1.92s/it]\n"
     ]
    }
   ],
   "source": [
    "train_acc_his , val_acc_his = [], []\n",
    "train_loss_his, val_loss_his = [], []\n",
    "for epoch in tqdm(range(epochs)):\n",
    "    train_acc, train_loss =train_loop(net, ds_train, loss, opt)\n",
    "    val_acc, val_loss = val_loop(net,ds_val, loss)\n",
    "    train_acc_his.append(train_acc)\n",
    "    val_acc_his.append(val_acc)\n",
    "    train_loss_his.append(train_loss)\n",
    "    val_loss_his.append(val_loss)\n"
   ]
  },
  {
   "cell_type": "code",
   "execution_count": 1641,
   "metadata": {},
   "outputs": [
    {
     "name": "stdout",
     "output_type": "stream",
     "text": [
      " Test Acc: 75.00%, loss: 0.693147\n"
     ]
    }
   ],
   "source": [
    "test_acc, test_loss = Test(net, ds_test, loss)\n",
    "print(f\" Test Acc: {(100*test_acc):>0.2f}%, loss: {test_loss:>8f}\")"
   ]
  },
  {
   "attachments": {},
   "cell_type": "markdown",
   "metadata": {},
   "source": [
    "## show train result"
   ]
  },
  {
   "cell_type": "code",
   "execution_count": 1642,
   "metadata": {},
   "outputs": [
    {
     "data": {
      "image/png": "[encoded data removed]",
      "text/plain": [
       "<Figure size 640x480 with 1 Axes>"
      ]
     },
     "metadata": {},
     "output_type": "display_data"
    },
    {
     "data": {
      "image/png": "[encoded data removed]",
      "text/plain": [
       "<Figure size 640x480 with 1 Axes>"
      ]
     },
     "metadata": {},
     "output_type": "display_data"
    }
   ],
   "source": [
    "plt.figure()\n",
    "plt.plot(train_loss_his,label='train loss')\n",
    "plt.plot(val_loss_his,label='val loss')\n",
    "plt.legend()\n",
    "\n",
    "\n",
    "plt.figure()\n",
    "plt.plot(train_acc_his,label='train acc')\n",
    "plt.plot(val_acc_his,label='val acc')\n",
    "plt.legend()\n",
    "\n",
    "plt.show()"
   ]
  }
 ],
 "metadata": {
  "kernelspec": {
   "display_name": "base",
   "language": "python",
   "name": "python3"
  },
  "language_info": {
   "codemirror_mode": {
    "name": "ipython",
    "version": 3
   },
   "file_extension": ".py",
   "mimetype": "text/x-python",
   "name": "python",
   "nbconvert_exporter": "python",
   "pygments_lexer": "ipython3",
   "version": "3.9.12"
  },
  "orig_nbformat": 4
 },
 "nbformat": 4,
 "nbformat_minor": 2
}
