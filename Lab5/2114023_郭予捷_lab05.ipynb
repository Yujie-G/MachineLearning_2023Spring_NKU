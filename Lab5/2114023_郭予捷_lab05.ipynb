{
 "cells": [
  {
   "attachments": {},
   "cell_type": "markdown",
   "metadata": {},
   "source": [
    "# Linear Regress with regularization: variance and bias"
   ]
  },
  {
   "cell_type": "code",
   "execution_count": 1,
   "metadata": {},
   "outputs": [],
   "source": [
    "import numpy as np\n",
    "import pandas as pd\n",
    "import matplotlib.pyplot as plt\n",
    "from scipy.io import loadmat\n",
    "import scipy.optimize as op\n",
    "\n",
    "path = 'ex5data1.mat'"
   ]
  },
  {
   "attachments": {},
   "cell_type": "markdown",
   "metadata": {},
   "source": [
    "## data import and show"
   ]
  },
  {
   "cell_type": "code",
   "execution_count": 2,
   "metadata": {},
   "outputs": [],
   "source": [
    "def load_mat(path):\n",
    "    data = loadmat(path)\n",
    "    return data['X'],data['y'],data['Xval'],data['yval'],data['Xtest'],data['ytest']"
   ]
  },
  {
   "cell_type": "code",
   "execution_count": 3,
   "metadata": {},
   "outputs": [],
   "source": [
    "def ployData(X,y):\n",
    "    plt.scatter(X, y, marker='x', c='r')\n",
    "    plt.ylabel('Change in water level')\n",
    "    plt.xlabel('Water flowing out of the dam')"
   ]
  },
  {
   "cell_type": "code",
   "execution_count": 4,
   "metadata": {},
   "outputs": [
    {
     "data": {
      "image/png": "[encoded data removed]",
      "text/plain": [
       "<Figure size 432x288 with 1 Axes>"
      ]
     },
     "metadata": {
      "needs_background": "light"
     },
     "output_type": "display_data"
    }
   ],
   "source": [
    "X_train, y_train, X_val, y_val, X_test, y_test = load_mat(path)\n",
    "ployData(X_train,y_train)"
   ]
  },
  {
   "attachments": {},
   "cell_type": "markdown",
   "metadata": {},
   "source": [
    "## Regression"
   ]
  },
  {
   "attachments": {},
   "cell_type": "markdown",
   "metadata": {},
   "source": [
    "### data prepare"
   ]
  },
  {
   "cell_type": "code",
   "execution_count": 5,
   "metadata": {},
   "outputs": [],
   "source": [
    "X_train = np.insert(X_train, 0,values=1,axis=1)\n",
    "X_val = np.insert(X_val, 0,values=1,axis=1)\n",
    "X_test = np.insert(X_test, 0,values=1,axis=1)\n"
   ]
  },
  {
   "attachments": {},
   "cell_type": "markdown",
   "metadata": {},
   "source": [
    "### cost function"
   ]
  },
  {
   "cell_type": "code",
   "execution_count": 6,
   "metadata": {},
   "outputs": [],
   "source": [
    "def costFunction_reg(theta,X,y,lmbd):\n",
    "    \"\"\"\n",
    "    X: R(m*n), m records, n features\n",
    "    y: R(m)\n",
    "    theta : R(n), linear regression parameters\n",
    "    \"\"\"\n",
    "    m = X.shape[0]\n",
    "    theta = theta.reshape(len(theta),1)\n",
    "    inner = X @ theta - y  # R(m*1)\n",
    "    square_sum = inner.T @ inner\n",
    "    J = square_sum / (2 * m)\n",
    "    J += lmbd*np.sum(theta[1:]**2)/(2*m)\n",
    "    return np.squeeze(J)"
   ]
  },
  {
   "attachments": {},
   "cell_type": "markdown",
   "metadata": {},
   "source": [
    "### gradient"
   ]
  },
  {
   "cell_type": "code",
   "execution_count": 7,
   "metadata": {},
   "outputs": [],
   "source": [
    "def gradient_reg(theta,X,y,lmbd):\n",
    "    m = X.shape[0]\n",
    "    theta = theta.reshape(len(theta),1)\n",
    "    grad = X.T @ (X @ theta - y)\n",
    "    grad /= m\n",
    "    reg = theta.copy()  # same shape as theta\n",
    "    reg[0] = 0  # don't regularize intercept theta\n",
    "    reg *= lmbd / m\n",
    "    grad += reg\n",
    "    return np.squeeze(grad)"
   ]
  },
  {
   "cell_type": "code",
   "execution_count": 8,
   "metadata": {},
   "outputs": [
    {
     "name": "stdout",
     "output_type": "stream",
     "text": [
      "303.9931922202643\n",
      "[-15.30301567 598.25074417]\n"
     ]
    }
   ],
   "source": [
    "print(costFunction_reg(np.ones((X_train.shape[1],1)),X_train,y_train,lmbd=1))\n",
    "print(gradient_reg(np.ones((X_train.shape[1],1)),X_train,y_train,lmbd=1))"
   ]
  },
  {
   "attachments": {},
   "cell_type": "markdown",
   "metadata": {},
   "source": [
    "### optimize"
   ]
  },
  {
   "cell_type": "code",
   "execution_count": 9,
   "metadata": {},
   "outputs": [],
   "source": [
    "def TrainLinearReg(X, y, lambd):\n",
    "    theta = np.ones(X.shape[1])\n",
    "    res = op.minimize(fun=costFunction_reg,\n",
    "                      x0=theta,\n",
    "                      args=(X, y, lambd),\n",
    "                      method='TNC',\n",
    "                      jac=gradient_reg,\n",
    "                      options={'disp': True})\n",
    "    return res.x\n"
   ]
  },
  {
   "attachments": {},
   "cell_type": "markdown",
   "metadata": {},
   "source": [
    "### show predict curve"
   ]
  },
  {
   "cell_type": "code",
   "execution_count": 10,
   "metadata": {},
   "outputs": [
    {
     "data": {
      "image/png": "[encoded data removed]",
      "text/plain": [
       "<Figure size 432x288 with 1 Axes>"
      ]
     },
     "metadata": {
      "needs_background": "light"
     },
     "output_type": "display_data"
    }
   ],
   "source": [
    "res = TrainLinearReg(X_train,y_train,lambd=1)\n",
    "b = res[0] # intercept\n",
    "k = res[1] # slope\n",
    "\n",
    "plt.scatter(X_train[:,1], y_train,marker='x', c='r', label=\"Training data\")\n",
    "plt.plot(X_train[:, 1], X_train[:, 1]*k + b, label=\"Prediction\")\n",
    "plt.legend(loc=2)\n",
    "plt.show()"
   ]
  },
  {
   "attachments": {},
   "cell_type": "markdown",
   "metadata": {},
   "source": [
    "## Variance and bias"
   ]
  },
  {
   "cell_type": "code",
   "execution_count": 11,
   "metadata": {},
   "outputs": [
    {
     "data": {
      "image/png": "[encoded data removed]",
      "text/plain": [
       "<Figure size 432x288 with 1 Axes>"
      ]
     },
     "metadata": {
      "needs_background": "light"
     },
     "output_type": "display_data"
    }
   ],
   "source": [
    "def plot_learning_curve(X,y,X_val,y_val,lambd):\n",
    "    his_train, his_val = [], []\n",
    "    size = range(1,len(X)+1)\n",
    "    for i in size:\n",
    "        i_theta = TrainLinearReg(X[:i,:],y[:i,:],lambd)\n",
    "        i_train_cost = costFunction_reg(i_theta,X[:i,:],y[:i,:],0)\n",
    "        i_val_cost = costFunction_reg(i_theta,X_val,y_val,0)\n",
    "        his_train.append(i_train_cost)\n",
    "        his_val.append(i_val_cost)\n",
    "    plt.plot(size, his_train, label='Train',color='blue')\n",
    "    plt.plot(size,his_val,label='Cross Validation',color='green')\n",
    "    plt.legend(loc=1)\n",
    "    plt.show()\n",
    "\n",
    "plot_learning_curve(X_train,y_train,X_val,y_val,0)"
   ]
  },
  {
   "attachments": {},
   "cell_type": "markdown",
   "metadata": {},
   "source": [
    "## Polynominal Regression"
   ]
  },
  {
   "attachments": {},
   "cell_type": "markdown",
   "metadata": {},
   "source": [
    "feature map: to $x^i$ only. $ i \\in (0,power]$"
   ]
  },
  {
   "cell_type": "code",
   "execution_count": 12,
   "metadata": {},
   "outputs": [
    {
     "data": {
      "text/plain": [
       "array([[ 1.00000000e+00, -1.59367581e+01,  2.53980260e+02,\n",
       "        -4.04762197e+03],\n",
       "       [ 1.00000000e+00, -2.91529792e+01,  8.49896197e+02,\n",
       "        -2.47770062e+04],\n",
       "       [ 1.00000000e+00,  3.61895486e+01,  1.30968343e+03,\n",
       "         4.73968522e+04],\n",
       "       [ 1.00000000e+00,  3.74921873e+01,  1.40566411e+03,\n",
       "         5.27014222e+04],\n",
       "       [ 1.00000000e+00, -4.80588295e+01,  2.30965109e+03,\n",
       "        -1.10999128e+05],\n",
       "       [ 1.00000000e+00, -8.94145794e+00,  7.99496701e+01,\n",
       "        -7.14866612e+02],\n",
       "       [ 1.00000000e+00,  1.53077929e+01,  2.34328523e+02,\n",
       "         3.58705250e+03],\n",
       "       [ 1.00000000e+00, -3.47062658e+01,  1.20452489e+03,\n",
       "        -4.18045609e+04],\n",
       "       [ 1.00000000e+00,  1.38915437e+00,  1.92974986e+00,\n",
       "         2.68072045e+00],\n",
       "       [ 1.00000000e+00, -4.43837599e+01,  1.96991814e+03,\n",
       "        -8.74323736e+04],\n",
       "       [ 1.00000000e+00,  7.01350208e+00,  4.91892115e+01,\n",
       "         3.44988637e+02],\n",
       "       [ 1.00000000e+00,  2.27627489e+01,  5.18142738e+02,\n",
       "         1.17943531e+04]])"
      ]
     },
     "execution_count": 12,
     "metadata": {},
     "output_type": "execute_result"
    }
   ],
   "source": [
    "def poly_feature(X,power):\n",
    "    Xpoly = X.copy()\n",
    "    for p in range(2,power+1):\n",
    "        Xpoly=np.insert(Xpoly, Xpoly.shape[1], Xpoly[:,1]**p, axis=1)\n",
    "    return Xpoly\n",
    "\n",
    "poly_feature(X_train, 3)\n"
   ]
  },
  {
   "attachments": {},
   "cell_type": "markdown",
   "metadata": {},
   "source": [
    "nomalize the input data"
   ]
  },
  {
   "cell_type": "code",
   "execution_count": 13,
   "metadata": {},
   "outputs": [],
   "source": [
    "def get_mean_std(X):\n",
    "    mean = np.mean(X,axis=0)\n",
    "    std = np.std(X,axis=0,ddof=1)\n",
    "    return mean, std\n",
    "\n",
    "def featureNorm(X,u,sigma):\n",
    "    X[:,1:] -= u[1:]\n",
    "    X[:,1:] /= sigma[1:]\n",
    "    return X"
   ]
  },
  {
   "attachments": {},
   "cell_type": "markdown",
   "metadata": {},
   "source": [
    "### set hyperparameter"
   ]
  },
  {
   "cell_type": "code",
   "execution_count": 14,
   "metadata": {},
   "outputs": [],
   "source": [
    "power = 8\n",
    "lambd = 1"
   ]
  },
  {
   "attachments": {},
   "cell_type": "markdown",
   "metadata": {},
   "source": [
    "### prepare norm data"
   ]
  },
  {
   "cell_type": "code",
   "execution_count": 15,
   "metadata": {},
   "outputs": [],
   "source": [
    "u, sigma = get_mean_std(poly_feature(X_train,power=power))\n",
    "X_train_norm = featureNorm(poly_feature(X_train,power),u,sigma)\n",
    "X_val_norm = featureNorm(poly_feature(X_val,power),u,sigma)\n",
    "X_test_norm = featureNorm(poly_feature(X_test,power),u,sigma)"
   ]
  },
  {
   "attachments": {},
   "cell_type": "markdown",
   "metadata": {},
   "source": [
    "## deferent lambda"
   ]
  },
  {
   "cell_type": "code",
   "execution_count": 16,
   "metadata": {},
   "outputs": [],
   "source": [
    "def plot_fit(u, sigma,lambd):\n",
    "    theta = TrainLinearReg(X_train_norm, y_train,lambd).reshape(-1,1)\n",
    "    xx = np.arange(-65,65,0.5).reshape(-1,1)\n",
    "    y_pre = featureNorm(poly_feature(np.insert(xx,0,values=1,axis=1),power),u,sigma)\n",
    "    y_pre = y_pre@theta\n",
    "    plt.plot(xx,y_pre,label = \"Predict data\")\n",
    "    plt.scatter(X_train[:,1], y_train, marker='x', c='r',label=\"Original data\")\n",
    "    plt.legend()\n",
    "    plt.show()"
   ]
  },
  {
   "attachments": {},
   "cell_type": "markdown",
   "metadata": {},
   "source": [
    "$ \\lambda = 0$"
   ]
  },
  {
   "cell_type": "code",
   "execution_count": 17,
   "metadata": {},
   "outputs": [
    {
     "data": {
      "image/png": "[encoded data removed]",
      "text/plain": [
       "<Figure size 432x288 with 1 Axes>"
      ]
     },
     "metadata": {
      "needs_background": "light"
     },
     "output_type": "display_data"
    },
    {
     "data": {
      "image/png": "[encoded data removed]",
      "text/plain": [
       "<Figure size 432x288 with 1 Axes>"
      ]
     },
     "metadata": {
      "needs_background": "light"
     },
     "output_type": "display_data"
    }
   ],
   "source": [
    "plot_fit(u,sigma,lambd=0)\n",
    "plot_learning_curve(X_train_norm,y_train,X_val_norm,y_val,lambd=0)"
   ]
  },
  {
   "attachments": {},
   "cell_type": "markdown",
   "metadata": {},
   "source": [
    "$ \\lambda = 1$"
   ]
  },
  {
   "cell_type": "code",
   "execution_count": 18,
   "metadata": {},
   "outputs": [
    {
     "data": {
      "image/png": "[encoded data removed]",
      "text/plain": [
       "<Figure size 432x288 with 1 Axes>"
      ]
     },
     "metadata": {
      "needs_background": "light"
     },
     "output_type": "display_data"
    },
    {
     "data": {
      "image/png": "[encoded data removed]",
      "text/plain": [
       "<Figure size 432x288 with 1 Axes>"
      ]
     },
     "metadata": {
      "needs_background": "light"
     },
     "output_type": "display_data"
    }
   ],
   "source": [
    "plot_fit(u,sigma,lambd=1)\n",
    "plot_learning_curve(X_train_norm,y_train,X_val_norm,y_val,lambd=1)"
   ]
  },
  {
   "attachments": {},
   "cell_type": "markdown",
   "metadata": {},
   "source": [
    "### using valid set to choose lambda"
   ]
  },
  {
   "cell_type": "code",
   "execution_count": 19,
   "metadata": {},
   "outputs": [
    {
     "data": {
      "image/png": "[encoded data removed]",
      "text/plain": [
       "<Figure size 432x288 with 1 Axes>"
      ]
     },
     "metadata": {
      "needs_background": "light"
     },
     "output_type": "display_data"
    }
   ],
   "source": [
    "lambda_list = [0., 0.001, 0.003, 0.01,0.03, 0.1, 0.3, 1.,2., 3.,4.,5., 10.]\n",
    "\n",
    "def check_diff_lambd(ls):\n",
    "    train_his , valid_his = [], []\n",
    "    xx = ls\n",
    "    for ld in lambda_list:\n",
    "        theta=TrainLinearReg(X_train_norm,y_train,ld)\n",
    "        train_his.append(costFunction_reg(theta,X_train_norm,y_train,0))\n",
    "        valid_his.append(costFunction_reg(theta,X_val_norm,y_val,0))\n",
    "    plt.plot(xx,train_his,c='b')\n",
    "    plt.plot(xx,valid_his,c='g')\n",
    "    plt.show()\n",
    "\n",
    "check_diff_lambd(lambda_list)\n"
   ]
  },
  {
   "attachments": {},
   "cell_type": "markdown",
   "metadata": {},
   "source": [
    "## calculate the loss on test set"
   ]
  },
  {
   "cell_type": "code",
   "execution_count": 20,
   "metadata": {},
   "outputs": [
    {
     "name": "stdout",
     "output_type": "stream",
     "text": [
      "When lambda is 3, he loss on test set is 3.8598858166268943\n"
     ]
    }
   ],
   "source": [
    "theta = TrainLinearReg(X_train_norm,y_train, 3)\n",
    "print(f'When lambda is {3}, he loss on test set is {costFunction_reg(theta,X_test_norm,y_test,0)}')"
   ]
  }
 ],
 "metadata": {
  "kernelspec": {
   "display_name": "base",
   "language": "python",
   "name": "python3"
  },
  "language_info": {
   "codemirror_mode": {
    "name": "ipython",
    "version": 3
   },
   "file_extension": ".py",
   "mimetype": "text/x-python",
   "name": "python",
   "nbconvert_exporter": "python",
   "pygments_lexer": "ipython3",
   "version": "3.9.12"
  },
  "orig_nbformat": 4
 },
 "nbformat": 4,
 "nbformat_minor": 2
}
